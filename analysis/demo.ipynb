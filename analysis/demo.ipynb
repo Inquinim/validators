{
 "cells": [
  {
   "cell_type": "code",
   "execution_count": null,
   "metadata": {},
   "outputs": [],
   "source": [
    "import os\n",
    "import pandas as pd\n",
    "# set pandas column width\n",
    "pd.set_option('display.max_colwidth', 200)\n",
    "\n",
    "import openvalidators\n",
    "from utils import download_data, get_runs, load_data\n",
    "import plotting \n",
    "\n",
    "DEFAULT_PROJECT = 'openvalidators'\n",
    "DEFAULT_FILTERS = {\"tags\": {\"$in\": [openvalidators.__version__]}}\n"
   ]
  },
  {
   "attachments": {},
   "cell_type": "markdown",
   "metadata": {},
   "source": [
    "# Access the run"
   ]
  },
  {
   "cell_type": "code",
   "execution_count": null,
   "metadata": {},
   "outputs": [],
   "source": [
    "load = False\n",
    "path = 'wandb_data.csv'\n",
    "runs = get_runs(DEFAULT_PROJECT, filters=DEFAULT_FILTERS, return_paths=True)\n",
    "df = download_data(runs[:10]) # download most recent 10 runs from wandb\n",
    "df.to_csv(path)\n",
    "\n",
    "# List columns\n",
    "df.info()\n",
    "print(f'History for {len(runs)} runs contains {len(df)} records. Dataframe shape: {df.shape}')"
   ]
  },
  {
   "cell_type": "code",
   "execution_count": null,
   "metadata": {},
   "outputs": [],
   "source": [
    "df.head()"
   ]
  },
  {
   "attachments": {},
   "cell_type": "markdown",
   "metadata": {},
   "source": [
    "## Contents of first log entry"
   ]
  },
  {
   "cell_type": "code",
   "execution_count": null,
   "metadata": {},
   "outputs": [],
   "source": [
    "df.iloc[0]"
   ]
  },
  {
   "cell_type": "markdown",
   "metadata": {},
   "source": [
    "# Network Health Overview"
   ]
  },
  {
   "cell_type": "code",
   "execution_count": null,
   "metadata": {},
   "outputs": [],
   "source": [
    "\n",
    "plotting.plot_uid_diversty(df, remove_unsuccessful=True)"
   ]
  },
  {
   "attachments": {},
   "cell_type": "markdown",
   "metadata": {},
   "source": [
    "# Logging throughput"
   ]
  },
  {
   "cell_type": "code",
   "execution_count": null,
   "metadata": {},
   "outputs": [],
   "source": [
    "plotting.plot_throughput(df,n_minutes=10)"
   ]
  },
  {
   "attachments": {},
   "cell_type": "markdown",
   "metadata": {},
   "source": [
    "# Dendrite Response Success Rates"
   ]
  },
  {
   "cell_type": "code",
   "execution_count": null,
   "metadata": {},
   "outputs": [],
   "source": [
    "# plots dendrite completion success rates (for answers by default), default is 20 most queried uids\n",
    "plotting.plot_dendrite_rates(df)\n"
   ]
  },
  {
   "cell_type": "code",
   "execution_count": null,
   "metadata": {},
   "outputs": [],
   "source": [
    "# plot dendrite completion rates for specific UID followups \n",
    "plotting.plot_dendrite_rates(df, uid_col='followup_uids', reward_col='followup_rewards', uids=[11,4,72,105,21,444,51,34,100,200,299])\n"
   ]
  },
  {
   "attachments": {},
   "cell_type": "markdown",
   "metadata": {},
   "source": [
    "# Analyze Completion Rates"
   ]
  },
  {
   "cell_type": "code",
   "execution_count": null,
   "metadata": {},
   "outputs": [],
   "source": [
    "# Show rate of 10 most popular followup completions (useful for detecting spam/attacks)\n",
    "plotting.plot_completion_rates(df, msg_col='followup_completions', time_interval='H', ntop=10).update_layout(yaxis_type='log')"
   ]
  },
  {
   "cell_type": "code",
   "execution_count": null,
   "metadata": {},
   "outputs": [],
   "source": [
    "# same, but for answers\n",
    "plotting.plot_completion_rates(df, msg_col='answer_completions', time_interval='H', ntop=10).update_layout(yaxis_type='log')"
   ]
  },
  {
   "cell_type": "code",
   "execution_count": null,
   "metadata": {},
   "outputs": [],
   "source": [
    "# regex-based completion search\n",
    "plotting.plot_completion_rates(df, msg_col='answer_completions', time_interval='H', ntop=5, completion_regex='Beyoncé')"
   ]
  },
  {
   "attachments": {},
   "cell_type": "markdown",
   "metadata": {},
   "source": [
    "# Plot Rewards for a Set of Completions"
   ]
  },
  {
   "cell_type": "code",
   "execution_count": null,
   "metadata": {},
   "outputs": [],
   "source": [
    "# plot reward rates for 5 most popular followup completions (useful for detecting spam/attacks)\n",
    "plotting.plot_completion_rewards(df, ntop=5, msg_col='followup_completions', reward_col='followup_rewards', uid_col='followup_uids')\n"
   ]
  },
  {
   "cell_type": "code",
   "execution_count": null,
   "metadata": {},
   "outputs": [],
   "source": [
    "# same, but for answers\n",
    "plotting.plot_completion_rewards(df, ntop=5, msg_col='answer_completions', reward_col='answer_rewards', uid_col='answer_uids')\n"
   ]
  },
  {
   "attachments": {},
   "cell_type": "markdown",
   "metadata": {},
   "source": [
    "# Plot Reward Leaderboard"
   ]
  },
  {
   "cell_type": "code",
   "execution_count": null,
   "metadata": {},
   "outputs": [],
   "source": [
    "# Get UIDs with highest average answer rewards \n",
    "plotting.plot_leaderboard(df, ntop=30)"
   ]
  }
 ],
 "metadata": {
  "kernelspec": {
   "display_name": "Python 3",
   "language": "python",
   "name": "python3"
  },
  "language_info": {
   "codemirror_mode": {
    "name": "ipython",
    "version": 3
   },
   "file_extension": ".py",
   "mimetype": "text/x-python",
   "name": "python",
   "nbconvert_exporter": "python",
   "pygments_lexer": "ipython3",
   "version": "3.9.5"
  },
  "orig_nbformat": 4
 },
 "nbformat": 4,
 "nbformat_minor": 2
}
